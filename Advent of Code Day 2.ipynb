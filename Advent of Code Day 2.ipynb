{
 "cells": [
  {
   "cell_type": "markdown",
   "id": "e74bc3a3-d4aa-4df9-9abd-f02576e47136",
   "metadata": {},
   "source": [
    "# Advent Day of Code - Day 2\n",
    "## Part 1"
   ]
  },
  {
   "cell_type": "code",
   "execution_count": null,
   "id": "d7aab878-d4ce-4b62-bcf3-43347dfa668b",
   "metadata": {},
   "outputs": [],
   "source": []
  }
 ],
 "metadata": {
  "kernelspec": {
   "display_name": "Python 3 (ipykernel)",
   "language": "python",
   "name": "python3"
  },
  "language_info": {
   "codemirror_mode": {
    "name": "ipython",
    "version": 3
   },
   "file_extension": ".py",
   "mimetype": "text/x-python",
   "name": "python",
   "nbconvert_exporter": "python",
   "pygments_lexer": "ipython3",
   "version": "3.13.0"
  }
 },
 "nbformat": 4,
 "nbformat_minor": 5
}
